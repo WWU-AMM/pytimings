{
 "cells": [
  {
   "cell_type": "code",
   "execution_count": null,
   "id": "ee811163",
   "metadata": {},
   "outputs": [],
   "source": [
    "import time\n",
    "\n",
    "from pytimings.timer import scoped_timing, function_timer, global_timings"
   ]
  },
  {
   "cell_type": "code",
   "execution_count": null,
   "id": "9222140a",
   "metadata": {},
   "outputs": [],
   "source": [
    "@function_timer(section_name=\"my_function\")\n",
    "def sleep(seconds=1):\n",
    "    init_time = time.time()\n",
    "    while time.time() < init_time + seconds:\n",
    "        pass\n",
    "    return time.time() - init_time"
   ]
  },
  {
   "cell_type": "code",
   "execution_count": null,
   "id": "48d97018",
   "metadata": {},
   "outputs": [],
   "source": [
    "with scoped_timing(section_name=\"my_scope\"):\n",
    "    sleep(1)\n",
    "    sleep(0.5)"
   ]
  },
  {
   "cell_type": "code",
   "execution_count": null,
   "id": "72ba8ab9",
   "metadata": {},
   "outputs": [],
   "source": [
    "global_timings.output_console()"
   ]
  }
 ],
 "metadata": {
  "kernelspec": {
   "display_name": "Python 3",
   "language": "python",
   "name": "python3"
  },
  "language_info": {
   "codemirror_mode": {
    "name": "ipython",
    "version": 3
   },
   "file_extension": ".py",
   "mimetype": "text/x-python",
   "name": "python",
   "nbconvert_exporter": "python",
   "pygments_lexer": "ipython3",
   "version": "3.8.6"
  }
 },
 "nbformat": 4,
 "nbformat_minor": 5
}
