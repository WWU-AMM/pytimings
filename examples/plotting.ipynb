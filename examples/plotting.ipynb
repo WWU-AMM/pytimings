{
 "cells": [
  {
   "cell_type": "code",
   "execution_count": null,
   "id": "9bfa6c5a",
   "metadata": {},
   "outputs": [],
   "source": [
    "from os import getcwd\n",
    "from pytimings.tools import generate_example_data\n",
    "\n",
    "filenames = generate_example_data(getcwd())"
   ]
  },
  {
   "cell_type": "code",
   "execution_count": null,
   "id": "ea107934",
   "metadata": {},
   "outputs": [],
   "source": [
    "from pytimings.processing import csv_to_dataframe\n",
    "\n",
    "dataframe = csv_to_dataframe(filenames, sort=True)\n",
    "dataframe.plot(x='pytimings::data::run', y=['quadratic_max_wall', 'linear_max_wall'], logy=True)"
   ]
  }
 ],
 "metadata": {
  "kernelspec": {
   "display_name": "Python 3",
   "language": "python",
   "name": "python3"
  },
  "language_info": {
   "codemirror_mode": {
    "name": "ipython",
    "version": 3
   },
   "file_extension": ".py",
   "mimetype": "text/x-python",
   "name": "python",
   "nbconvert_exporter": "python",
   "pygments_lexer": "ipython3",
   "version": "3.8.6"
  }
 },
 "nbformat": 4,
 "nbformat_minor": 5
}
